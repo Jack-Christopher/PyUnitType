{
 "cells": [
  {
   "cell_type": "code",
   "execution_count": 18,
   "metadata": {},
   "outputs": [],
   "source": [
    "from sklearn.metrics import confusion_matrix, classification_report\n",
    "import seaborn as sns\n",
    "import matplotlib.pyplot as plt\n",
    "\n",
    "import utils as ut\n",
    "import pickle\n",
    "import pandas as pd\n",
    "from sklearn.model_selection import train_test_split\n",
    "from sklearn.preprocessing import LabelEncoder\n",
    "from tensorflow.keras.models import Sequential, load_model\n",
    "from tensorflow.keras.layers import Embedding, LSTM, Dense, Bidirectional, Dropout\n",
    "from tensorflow.keras.optimizers import Adam\n",
    "from tensorflow.keras.preprocessing.text import Tokenizer\n",
    "from tensorflow.keras.preprocessing.sequence import pad_sequences\n",
    "from tensorflow.keras.callbacks import EarlyStopping\n",
    "import tensorflow as tf"
   ]
  },
  {
   "cell_type": "code",
   "execution_count": 16,
   "metadata": {},
   "outputs": [],
   "source": [
    "# Hyperparameters\n",
    "MAX_SEQUENCE_LENGTH = 128\n",
    "EMBEDDING_DIM = 512\n",
    "LSTM_UNITS = 256\n",
    "DENSE_UNITS = 128\n",
    "EPOCHS = 4\n",
    "BATCH_SIZE = 256\n",
    "TEST_SIZE = 0.3\n",
    "LEARNING_RATE = 0.01\n",
    "DROPOUT_RATE = 0.2"
   ]
  },
  {
   "cell_type": "code",
   "execution_count": 11,
   "metadata": {},
   "outputs": [],
   "source": [
    "\n",
    "def load_tokenizer(tokenizer_file_path='tokenizer.pkl'):\n",
    "    with open(tokenizer_file_path, 'rb') as tokenizer_file:\n",
    "        tokenizer = pickle.load(tokenizer_file)\n",
    "    return tokenizer\n",
    "\n",
    "def load_label_encoder(label_encoder_file_path='label_encoder.pkl'):\n",
    "    with open(label_encoder_file_path, 'rb') as label_encoder_file:\n",
    "        label_encoder = pickle.load(label_encoder_file)\n",
    "    return label_encoder\n",
    "\n",
    "def load_data():\n",
    "    # Load CSV data\n",
    "    df = pd.read_csv(\"random_samples.csv\")\n",
    "\n",
    "    # Encode datatypes\n",
    "    label_encoder = LabelEncoder()\n",
    "    df['datatype_encoded'] = label_encoder.fit_transform(df['datatype'])\n",
    "\n",
    "    # Tokenize and pad sequences\n",
    "    tokenizer = Tokenizer()\n",
    "    tokenizer.fit_on_texts(df['ops_funcs'])\n",
    "    sequences = tokenizer.texts_to_sequences(df['ops_funcs'])\n",
    "    padded_sequences = pad_sequences(sequences, maxlen=MAX_SEQUENCE_LENGTH)\n",
    "\n",
    "    return df, tokenizer, padded_sequences, label_encoder\n"
   ]
  },
  {
   "cell_type": "code",
   "execution_count": 12,
   "metadata": {},
   "outputs": [],
   "source": [
    "\n",
    "def build_model(df, tokenizer, padded_sequences, label_encoder, learning_rate=LEARNING_RATE):\n",
    "    # Split data into training and testing sets\n",
    "    X_train, X_test, y_train, y_test = train_test_split(padded_sequences, df['datatype_encoded'], test_size=TEST_SIZE, random_state=42)\n",
    "\n",
    "    # Build LSTM model with bidirectional layers\n",
    "    model = Sequential()\n",
    "    model.add(Embedding(input_dim=len(tokenizer.word_index) + 1, output_dim=EMBEDDING_DIM, input_length=padded_sequences.shape[1]))\n",
    "\n",
    "    model.add(Bidirectional(LSTM(units=LSTM_UNITS, return_sequences=True)))\n",
    "    model.add(Dropout(rate=DROPOUT_RATE))\n",
    "    \n",
    "    model.add(Bidirectional(LSTM(units=LSTM_UNITS//2, return_sequences=True)))\n",
    "    model.add(Dropout(rate=DROPOUT_RATE))\n",
    "    \n",
    "    model.add(Bidirectional(LSTM(units=LSTM_UNITS//4)))\n",
    "    model.add(Dropout(rate=DROPOUT_RATE))\n",
    "    \n",
    "    model.add(Dense(units=len(label_encoder.classes_), activation='softmax'))\n",
    "\n",
    "\n",
    "    # Compile the model\n",
    "    optimizer = Adam(learning_rate=learning_rate)\n",
    "    model.compile(optimizer=optimizer, loss='sparse_categorical_crossentropy', metrics=['accuracy'])\n",
    "\n",
    "    # Print model architecture\n",
    "    tf.keras.utils.plot_model(model, to_file='lstm_model.png', show_shapes=True, dpi=64)\n",
    "\n",
    "    return model, X_train, y_train, X_test, y_test\n",
    "\n"
   ]
  },
  {
   "cell_type": "code",
   "execution_count": 13,
   "metadata": {},
   "outputs": [],
   "source": [
    "def fit_model(model, X_train, y_train, X_test, y_test):\n",
    "    # Train the model\n",
    "    early_stopping = EarlyStopping(monitor='val_loss', patience=3, restore_best_weights=True)\n",
    "    model.fit(X_train, y_train, epochs=EPOCHS, batch_size=BATCH_SIZE, validation_data=(X_test, y_test), callbacks=[early_stopping])\n",
    "\n",
    "    # Evaluate the model\n",
    "    loss, accuracy = model.evaluate(X_test, y_test)\n",
    "    ut.print_info(f'[TEST] Accuracy: {accuracy * 100:.2f}%')\n",
    "\n",
    "    # Get predictions\n",
    "    predictions = model.predict(X_test)\n",
    "\n",
    "    return loss, accuracy, predictions\n"
   ]
  },
  {
   "cell_type": "code",
   "execution_count": 19,
   "metadata": {},
   "outputs": [],
   "source": [
    "def train():\n",
    "    # Load data\n",
    "    df, tokenizer, padded_sequences, label_encoder = load_data()\n",
    "\n",
    "    # Save tokenizer\n",
    "    with open('tokenizer.pkl', 'wb') as tokenizer_file:\n",
    "        pickle.dump(tokenizer, tokenizer_file)\n",
    "\n",
    "    # Save label encoder\n",
    "    with open('label_encoder.pkl', 'wb') as label_encoder_file:\n",
    "        pickle.dump(label_encoder, label_encoder_file)\n",
    "\n",
    "    # Build model\n",
    "    model, X_train, y_train, X_test, y_test = build_model(df, tokenizer, padded_sequences, label_encoder)\n",
    "\n",
    "    # Train and evaluate model\n",
    "    loss, accuracy, predictions = fit_model(model, X_train, y_train, X_test, y_test)\n",
    "\n",
    "    # Save model to h5 file\n",
    "    model.save('classifier.h5')\n",
    "\n",
    "    # Obtain confusion matrix and classification report\n",
    "    y_pred = predictions.argmax(axis=1)\n",
    "    y_true = y_test\n",
    "\n",
    "    cm = confusion_matrix(y_true, y_pred)\n",
    "    cr = classification_report(y_true, y_pred)\n",
    "\n",
    "    # Display confusion matrix\n",
    "    plt.figure(figsize=(8, 6))\n",
    "    sns.heatmap(cm, annot=True, fmt=\"d\", cmap=\"Blues\", xticklabels=label_encoder.classes_, yticklabels=label_encoder.classes_)\n",
    "    plt.title(\"Confusion Matrix\")\n",
    "    plt.xlabel(\"Predicted\")\n",
    "    plt.ylabel(\"True\")\n",
    "    plt.show()\n",
    "\n",
    "    print(\"Classification Report:\\n\", cr)\n",
    "\n",
    "    return loss, accuracy\n"
   ]
  },
  {
   "cell_type": "code",
   "execution_count": 20,
   "metadata": {},
   "outputs": [
    {
     "name": "stdout",
     "output_type": "stream",
     "text": [
      "Epoch 1/4\n",
      "6/6 [==============================] - 151s 22s/step - loss: 1.7392 - accuracy: 0.3093 - val_loss: 1.1124 - val_accuracy: 0.7667\n",
      "Epoch 2/4\n",
      "6/6 [==============================] - 130s 22s/step - loss: 0.7808 - accuracy: 0.7421 - val_loss: 0.4927 - val_accuracy: 0.7700\n",
      "Epoch 3/4\n",
      "6/6 [==============================] - 129s 22s/step - loss: 0.3753 - accuracy: 0.8529 - val_loss: 0.4749 - val_accuracy: 0.9633\n",
      "Epoch 4/4\n",
      "6/6 [==============================] - 150s 23s/step - loss: 0.2579 - accuracy: 0.9429 - val_loss: 0.1690 - val_accuracy: 0.9550\n",
      "19/19 [==============================] - 28s 1s/step - loss: 0.1690 - accuracy: 0.9550\n",
      "│[INFO] [TEST] Accuracy: 95.50%\n",
      "19/19 [==============================] - 25s 1s/step\n"
     ]
    },
    {
     "data": {
      "image/png": "[encoded data removed]",
      "text/plain": [
       "<Figure size 800x600 with 2 Axes>"
      ]
     },
     "metadata": {},
     "output_type": "display_data"
    },
    {
     "name": "stdout",
     "output_type": "stream",
     "text": [
      "Classification Report:\n",
      "               precision    recall  f1-score   support\n",
      "\n",
      "           0       1.00      1.00      1.00       157\n",
      "           1       0.86      1.00      0.92       138\n",
      "           2       0.97      0.84      0.90       145\n",
      "           3       1.00      0.97      0.99       160\n",
      "\n",
      "    accuracy                           0.95       600\n",
      "   macro avg       0.96      0.95      0.95       600\n",
      "weighted avg       0.96      0.95      0.95       600\n",
      "\n"
     ]
    }
   ],
   "source": [
    "# Call the train function\n",
    "loss, accuracy = train()"
   ]
  }
 ],
 "metadata": {
  "kernelspec": {
   "display_name": "venv",
   "language": "python",
   "name": "python3"
  },
  "language_info": {
   "codemirror_mode": {
    "name": "ipython",
    "version": 3
   },
   "file_extension": ".py",
   "mimetype": "text/x-python",
   "name": "python",
   "nbconvert_exporter": "python",
   "pygments_lexer": "ipython3",
   "version": "3.10.0"
  }
 },
 "nbformat": 4,
 "nbformat_minor": 2
}
