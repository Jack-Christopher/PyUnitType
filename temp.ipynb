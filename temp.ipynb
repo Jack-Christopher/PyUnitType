{
 "cells": [
  {
   "cell_type": "code",
   "execution_count": 1,
   "metadata": {},
   "outputs": [],
   "source": [
    "from z3 import *"
   ]
  },
  {
   "cell_type": "code",
   "execution_count": 2,
   "metadata": {},
   "outputs": [
    {
     "name": "stdout",
     "output_type": "stream",
     "text": [
      "[y = 0, x = 7]\n"
     ]
    }
   ],
   "source": [
    "# fancy example\n",
    "x = Int('x')\n",
    "y = Int('y')\n",
    "solve(x > 2, y < 10, x + 2*y == 7)"
   ]
  },
  {
   "cell_type": "code",
   "execution_count": 3,
   "metadata": {},
   "outputs": [
    {
     "name": "stdout",
     "output_type": "stream",
     "text": [
      "3 + 3*x + y\n",
      "Not(y <= -2)\n",
      "And(x >= 2, 2*x**2 + y**2 >= 3)\n"
     ]
    }
   ],
   "source": [
    "x = Int('x')\n",
    "y = Int('y')\n",
    "print (simplify(x + y + 2*x + 3))\n",
    "print (simplify(x < y + x + 2))\n",
    "print (simplify(And(x + 1 >= 3, x**2 + x**2 + y**2 + 2 >= 5)))"
   ]
  },
  {
   "cell_type": "code",
   "execution_count": 7,
   "metadata": {},
   "outputs": [
    {
     "name": "stdout",
     "output_type": "stream",
     "text": [
      "x<sup>2</sup> + y<sup>2</sup> &ge; 1\n",
      "x**2 + y**2 >= 1\n"
     ]
    }
   ],
   "source": [
    "x = Int('x')\n",
    "y = Int('y')\n",
    "print (x**2 + y**2 >= 1)\n",
    "set_option(html_mode=False)\n",
    "print (x**2 + y**2 >= 1)"
   ]
  },
  {
   "cell_type": "code",
   "execution_count": 8,
   "metadata": {},
   "outputs": [
    {
     "name": "stdout",
     "output_type": "stream",
     "text": [
      "num args:  2\n",
      "children:  [x + y, 3]\n",
      "1st child: x + y\n",
      "2nd child: 3\n",
      "operator:  >=\n",
      "op name:   >=\n"
     ]
    }
   ],
   "source": [
    "x = Int('x')\n",
    "y = Int('y')\n",
    "n = x + y >= 3\n",
    "print (\"num args: \", n.num_args())\n",
    "print (\"children: \", n.children())\n",
    "print (\"1st child:\", n.arg(0))\n",
    "print (\"2nd child:\", n.arg(1))\n",
    "print (\"operator: \", n.decl())\n",
    "print (\"op name:  \", n.decl().name())"
   ]
  },
  {
   "cell_type": "code",
   "execution_count": 9,
   "metadata": {},
   "outputs": [
    {
     "name": "stdout",
     "output_type": "stream",
     "text": [
      "[y = 2, x = 1/8]\n"
     ]
    }
   ],
   "source": [
    "x = Real('x')\n",
    "y = Real('y')\n",
    "solve(x**2 + y**2 > 3, x**3 + y < 5)"
   ]
  },
  {
   "cell_type": "code",
   "execution_count": 10,
   "metadata": {},
   "outputs": [
    {
     "name": "stdout",
     "output_type": "stream",
     "text": [
      "[p = False, q = True, r = False]\n"
     ]
    }
   ],
   "source": [
    "p = Bool('p')\n",
    "q = Bool('q')\n",
    "r = Bool('r')\n",
    "solve(Implies(p, q), r == Not(q), Or(Not(p), r))"
   ]
  },
  {
   "cell_type": "code",
   "execution_count": 11,
   "metadata": {},
   "outputs": [
    {
     "name": "stdout",
     "output_type": "stream",
     "text": [
      "[x = -1.4142135623?, p = False]\n"
     ]
    }
   ],
   "source": [
    "p = Bool('p')\n",
    "x = Real('x')\n",
    "solve(Or(x < 5, x > 10), Or(p, x**2 == 2), Not(p))"
   ]
  },
  {
   "cell_type": "code",
   "execution_count": 12,
   "metadata": {},
   "outputs": [
    {
     "name": "stdout",
     "output_type": "stream",
     "text": [
      "[]\n",
      "[x > 10, y == x + 2]\n",
      "Solving constraints in the solver s ...\n",
      "sat\n",
      "Create a new scope...\n",
      "[x > 10, y == x + 2, y < 11]\n",
      "Solving updated set of constraints...\n",
      "unsat\n",
      "Restoring state...\n",
      "[x > 10, y == x + 2]\n",
      "Solving restored set of constraints...\n",
      "sat\n"
     ]
    }
   ],
   "source": [
    "x = Int('x')\n",
    "y = Int('y')\n",
    "\n",
    "s = Solver()\n",
    "print (s)\n",
    "\n",
    "s.add(x > 10, y == x + 2)\n",
    "print (s)\n",
    "print (\"Solving constraints in the solver s ...\")\n",
    "print (s.check())\n",
    "\n",
    "print (\"Create a new scope...\")\n",
    "s.push()\n",
    "s.add(y < 11)\n",
    "print (s)\n",
    "print (\"Solving updated set of constraints...\")\n",
    "print (s.check())\n",
    "\n",
    "print (\"Restoring state...\")\n",
    "s.pop()\n",
    "print (s)\n",
    "print (\"Solving restored set of constraints...\")\n",
    "print (s.check())"
   ]
  },
  {
   "cell_type": "code",
   "execution_count": 13,
   "metadata": {},
   "outputs": [
    {
     "name": "stdout",
     "output_type": "stream",
     "text": [
      "asserted constraints...\n",
      "x > 1\n",
      "y > 1\n",
      "Or(x + y > 3, x - y < 2)\n",
      "sat\n",
      "statistics for the last check method...\n",
      "(:arith-make-feasible 3\n",
      " :arith-max-columns   8\n",
      " :arith-max-rows      2\n",
      " :arith-upper         4\n",
      " :decisions           2\n",
      " :final-checks        1\n",
      " :max-memory          21.55\n",
      " :memory              20.48\n",
      " :mk-bool-var         4\n",
      " :mk-clause-binary    1\n",
      " :num-allocs          102970689\n",
      " :num-checks          1\n",
      " :rlimit-count        1910\n",
      " :time                0.16)\n",
      "decisions : 2\n",
      "final checks : 1\n",
      "mk clause binary : 1\n",
      "num checks : 1\n",
      "mk bool var : 4\n",
      "arith-upper : 4\n",
      "arith-make-feasible : 3\n",
      "arith-max-columns : 8\n",
      "arith-max-rows : 2\n",
      "num allocs : 102970689\n",
      "rlimit count : 1910\n",
      "max memory : 21.55\n",
      "memory : 20.48\n",
      "time : 0.161\n"
     ]
    }
   ],
   "source": [
    "x = Real('x')\n",
    "y = Real('y')\n",
    "s = Solver()\n",
    "s.add(x > 1, y > 1, Or(x + y > 3, x - y < 2))\n",
    "print (\"asserted constraints...\")\n",
    "for c in s.assertions():\n",
    "    print (c)\n",
    "\n",
    "print (s.check())\n",
    "print (\"statistics for the last check method...\")\n",
    "print (s.statistics())\n",
    "# Traversing statistics\n",
    "for k, v in s.statistics():\n",
    "    print (\"%s : %s\" % (k, v))"
   ]
  },
  {
   "cell_type": "code",
   "execution_count": 14,
   "metadata": {},
   "outputs": [
    {
     "name": "stdout",
     "output_type": "stream",
     "text": [
      "sat\n",
      "x = 3/2\n",
      "traversing model...\n",
      "y = 2\n",
      "x = 3/2\n",
      "z = 0\n"
     ]
    }
   ],
   "source": [
    "x, y, z = Reals('x y z')\n",
    "s = Solver()\n",
    "s.add(x > 1, y > 1, x + y > 3, z - x < 10)\n",
    "print (s.check())\n",
    "\n",
    "m = s.model()\n",
    "print (\"x = %s\" % m[x])\n",
    "\n",
    "print (\"traversing model...\")\n",
    "for d in m.decls():\n",
    "    print (\"%s = %s\" % (d.name(), m[d]))"
   ]
  }
 ],
 "metadata": {
  "kernelspec": {
   "display_name": "Python 3",
   "language": "python",
   "name": "python3"
  },
  "language_info": {
   "codemirror_mode": {
    "name": "ipython",
    "version": 3
   },
   "file_extension": ".py",
   "mimetype": "text/x-python",
   "name": "python",
   "nbconvert_exporter": "python",
   "pygments_lexer": "ipython3",
   "version": "3.10.0"
  }
 },
 "nbformat": 4,
 "nbformat_minor": 2
}
